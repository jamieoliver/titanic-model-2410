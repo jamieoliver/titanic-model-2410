{
 "cells": [
  {
   "cell_type": "markdown",
   "id": "25f705fb-dd83-4242-afd5-f791fe198e1c",
   "metadata": {},
   "source": [
    "# Titanic: Survival Model\n",
    "\n",
    "Build and train a model to predict survival on the Titanic using a [cleaned and split dataset](https://huggingface.co/datasets/jamieoliver/titanic-2410), and upload the model to Hugging Face.\n",
    "\n",
    "Based on https://github.com/fastai/course22/blob/master/clean/05-linear-model-and-neural-net-from-scratch.ipynb using the dataset from https://www.kaggle.com/competitions/titanic.\n",
    "\n",
    "Plan\n",
    "- [x] Download [cleaned and split dataset](https://huggingface.co/datasets/jamieoliver/titanic-2410) from Hugging Face\n",
    "- [x] Prepare data for model\n",
    "    - [x] Load training dataset as PyTorch tensors\n",
    "    - [x] Normalise training dataset\n",
    "- [x] Train model\n",
    "    - [x] Set up coefficients\n",
    "    - [x] Set up gradient descent step\n",
    "    - [x] Run training loop\n",
    "- [ ] Test model\n",
    "- [ ] Upload model to Hugging Face"
   ]
  },
  {
   "cell_type": "markdown",
   "id": "813bd16e-9fbd-4d9d-a400-fabc8ff7f2e6",
   "metadata": {},
   "source": [
    "##  Download Dataset from Hugging Face"
   ]
  },
  {
   "cell_type": "code",
   "execution_count": 1,
   "id": "928b3381-2e66-47ea-b937-b848141f0cf4",
   "metadata": {},
   "outputs": [
    {
     "data": {
      "text/plain": [
       "DatasetDict({\n",
       "    train: Dataset({\n",
       "        features: ['PassengerId', 'Survived', 'Name', 'Age', 'SibSp', 'Parch', 'Ticket', 'Fare', 'Cabin', 'LogFare', 'Pclass_1', 'Pclass_2', 'Pclass_3', 'Sex_female', 'Sex_male', 'Embarked_C', 'Embarked_Q', 'Embarked_S'],\n",
       "        num_rows: 712\n",
       "    })\n",
       "    validation: Dataset({\n",
       "        features: ['PassengerId', 'Survived', 'Name', 'Age', 'SibSp', 'Parch', 'Ticket', 'Fare', 'Cabin', 'LogFare', 'Pclass_1', 'Pclass_2', 'Pclass_3', 'Sex_female', 'Sex_male', 'Embarked_C', 'Embarked_Q', 'Embarked_S'],\n",
       "        num_rows: 179\n",
       "    })\n",
       "    test: Dataset({\n",
       "        features: ['PassengerId', 'Survived', 'Name', 'Age', 'SibSp', 'Parch', 'Ticket', 'Fare', 'Cabin', 'LogFare', 'Pclass_1', 'Pclass_2', 'Pclass_3', 'Sex_female', 'Sex_male', 'Embarked_C', 'Embarked_Q', 'Embarked_S'],\n",
       "        num_rows: 418\n",
       "    })\n",
       "})"
      ]
     },
     "execution_count": 1,
     "metadata": {},
     "output_type": "execute_result"
    }
   ],
   "source": [
    "from datasets import *\n",
    "\n",
    "datasetDict = load_dataset('jamieoliver/titanic-2410')\n",
    "datasetDict"
   ]
  },
  {
   "cell_type": "markdown",
   "id": "50258aa3-5330-4970-a655-2e9eacd3c502",
   "metadata": {},
   "source": [
    "## Prepare Data for Model"
   ]
  },
  {
   "cell_type": "markdown",
   "id": "04c91b29-6e0c-4952-ab70-59eb24254d5e",
   "metadata": {},
   "source": [
    "### Load Training Dataset as PyTorch Tensors"
   ]
  },
  {
   "cell_type": "code",
   "execution_count": 2,
   "id": "7d762c5e-33d5-4f62-a8a8-5b6327c26e43",
   "metadata": {},
   "outputs": [],
   "source": [
    "import torch\n",
    "from torch import tensor\n",
    "\n",
    "torch.set_printoptions(linewidth=120, edgeitems=10)"
   ]
  },
  {
   "cell_type": "code",
   "execution_count": 3,
   "id": "366f362e-4d3a-4bd6-ac99-67a9ca403d19",
   "metadata": {},
   "outputs": [
    {
     "data": {
      "text/plain": [
       "Dataset({\n",
       "    features: ['PassengerId', 'Survived', 'Name', 'Age', 'SibSp', 'Parch', 'Ticket', 'Fare', 'Cabin', 'LogFare', 'Pclass_1', 'Pclass_2', 'Pclass_3', 'Sex_female', 'Sex_male', 'Embarked_C', 'Embarked_Q', 'Embarked_S'],\n",
       "    num_rows: 712\n",
       "})"
      ]
     },
     "execution_count": 3,
     "metadata": {},
     "output_type": "execute_result"
    }
   ],
   "source": [
    "train_dataset = datasetDict['train']\n",
    "train_dataset"
   ]
  },
  {
   "cell_type": "markdown",
   "id": "ee93576a-78cf-4ce4-840b-c967435777e7",
   "metadata": {},
   "source": [
    "The dependent variable is the variable we are predicting i.e. `survived`."
   ]
  },
  {
   "cell_type": "code",
   "execution_count": 4,
   "id": "ca8bd00a-69b5-4923-bb8e-39612871d383",
   "metadata": {},
   "outputs": [
    {
     "data": {
      "text/plain": [
       "tensor([0., 0., 0., 1., 0., 1., 1., 1., 1., 1., 0., 1., 0., 0., 0., 0., 1., 1., 0., 1., 0., 0., 0., 0., 0., 0., 0., 1.,\n",
       "        0., 0., 1., 1., 0., 0., 0., 1., 1., 0., 0., 0., 1., 0., 1., 1., 0., 1., 0., 0., 1., 0., 0., 1., 1., 0., 0., 1.,\n",
       "        0., 0., 1., 0., 1., 0., 0., 0., 0., 0., 0., 0., 1., 0., 0., 0., 1., 1., 0., 1., 1., 1., 1., 1., 0., 1., 0., 0.,\n",
       "        1., 1., 0., 0., 1., 0., 0., 0., 0., 0., 0., 1., 0., 1., 0., 0., 1., 1., 0., 1., 0., 0., 1., 0., 0., 0., 1., 0.,\n",
       "        0., 0., 0., 0., 0., 1., 0., 0., 0., 1., 0., 0., 1., 1., 0., 0., 0., 1., 0., 0., 1., 0., 0., 1., 0., 1., 0., 0.,\n",
       "        1., 0., 0., 0., 1., 0., 0., 0., 0., 0., 1., 1., 1., 0., 0., 0., 0., 0., 0., 0., 0., 0., 0., 1., 1., 0., 1., 1.,\n",
       "        1., 0., 0., 0., 1., 0., 0., 0., 0., 1., 0., 0., 0., 0., 0., 0., 0., 0., 1., 1., 0., 0., 1., 0., 1., 1., 0., 0.,\n",
       "        1., 1., 1., 1., 1., 0., 1., 0., 0., 1., 1., 1., 0., 0., 1., 1., 1., 1., 0., 0., 0., 0., 0., 0., 0., 1., 1., 0.,\n",
       "        0., 1., 1., 0., 1., 0., 0., 0., 0., 0., 0., 0., 0., 0., 0., 1., 0., 0., 1., 0., 0., 1., 0., 0., 1., 1., 1., 0.,\n",
       "        1., 0., 1., 1., 0., 1., 0., 0., 0., 0., 1., 0., 0., 0., 1., 1., 0., 0., 0., 0., 0., 1., 0., 0., 0., 0., 0., 0.,\n",
       "        0., 0., 0., 1., 0., 0., 0., 0., 0., 0., 1., 0., 0., 0., 1., 0., 1., 1., 0., 0., 0., 0., 0., 0., 0., 1., 0., 0.,\n",
       "        1., 0., 0., 0., 0., 0., 0., 0., 0., 0., 0., 0., 0., 0., 0., 0., 0., 1., 0., 1., 0., 1., 1., 1., 0., 0., 1., 1.,\n",
       "        0., 0., 1., 1., 0., 0., 0., 0., 0., 0., 0., 1., 0., 0., 0., 1., 0., 1., 0., 1., 1., 1., 1., 0., 1., 0., 0., 0.,\n",
       "        1., 1., 1., 0., 1., 1., 0., 0., 0., 0., 1., 0., 1., 0., 1., 0., 1., 0., 0., 1., 0., 1., 1., 1., 1., 0., 0., 0.,\n",
       "        0., 0., 0., 1., 0., 0., 0., 0., 1., 1., 0., 1., 0., 0., 0., 0., 0., 0., 0., 0., 0., 0., 0., 0., 1., 1., 0., 0.,\n",
       "        0., 0., 1., 0., 0., 0., 0., 0., 0., 0., 0., 0., 0., 1., 0., 0., 0., 0., 1., 1., 1., 1., 1., 1., 1., 1., 1., 1.,\n",
       "        1., 0., 1., 0., 0., 1., 1., 1., 1., 1., 0., 1., 0., 1., 0., 1., 0., 0., 0., 1., 0., 1., 0., 0., 0., 0., 0., 1.,\n",
       "        0., 0., 1., 0., 1., 0., 0., 0., 1., 1., 1., 0., 1., 1., 1., 1., 0., 1., 0., 1., 0., 0., 0., 0., 0., 1., 0., 1.,\n",
       "        1., 0., 0., 0., 1., 0., 0., 1., 0., 0., 0., 1., 0., 1., 0., 0., 0., 0., 1., 1., 1., 1., 0., 0., 0., 0., 0., 1.,\n",
       "        0., 0., 0., 1., 0., 0., 1., 0., 0., 0., 1., 1., 0., 0., 0., 1., 0., 1., 0., 1., 1., 0., 1., 1., 0., 1., 0., 0.,\n",
       "        1., 1., 0., 1., 0., 0., 0., 1., 1., 0., 0., 0., 1., 1., 0., 1., 1., 0., 0., 0., 0., 0., 0., 0., 1., 0., 0., 0.,\n",
       "        1., 0., 0., 0., 0., 1., 0., 1., 1., 1., 0., 0., 1., 1., 1., 0., 0., 0., 0., 0., 1., 0., 0., 0., 0., 1., 1., 1.,\n",
       "        0., 0., 0., 1., 1., 0., 0., 0., 0., 0., 0., 1., 0., 0., 0., 0., 0., 0., 0., 1., 0., 1., 0., 0., 0., 1., 0., 0.,\n",
       "        0., 0., 1., 1., 0., 0., 0., 0., 0., 1., 1., 1., 0., 0., 1., 1., 0., 0., 1., 0., 0., 0., 0., 1., 1., 1., 1., 0.,\n",
       "        1., 1., 0., 0., 0., 0., 0., 1., 0., 1., 1., 0., 1., 0., 1., 0., 0., 0., 1., 0., 0., 1., 0., 1., 1., 0., 1., 0.,\n",
       "        0., 1., 0., 0., 1., 0., 1., 1., 1., 0., 1., 0.])"
      ]
     },
     "execution_count": 4,
     "metadata": {},
     "output_type": "execute_result"
    }
   ],
   "source": [
    "dependent_var = tensor(train_dataset.to_pandas()['Survived'].values, dtype=torch.float)\n",
    "dependent_var"
   ]
  },
  {
   "cell_type": "code",
   "execution_count": 5,
   "id": "ef193d95-c2f7-47cb-9798-7c4a49a1fd8d",
   "metadata": {},
   "outputs": [
    {
     "data": {
      "text/plain": [
       "torch.Size([712])"
      ]
     },
     "execution_count": 5,
     "metadata": {},
     "output_type": "execute_result"
    }
   ],
   "source": [
    "dependent_var.shape"
   ]
  },
  {
   "cell_type": "markdown",
   "id": "6faac882-da41-45a9-a4b2-9cc35fbcfb9a",
   "metadata": {},
   "source": [
    "The independent variables are the variables we will use to make the prediction. Note that we use a trick in mutiplying the Pandas DataFrame by 1 to convert booleans to integers."
   ]
  },
  {
   "cell_type": "code",
   "execution_count": 6,
   "id": "18bdd66b-2dd7-4d0e-9434-d4b185d39558",
   "metadata": {},
   "outputs": [
    {
     "data": {
      "text/plain": [
       "tensor([[22.0000,  0.0000,  0.0000,  2.0949,  0.0000,  0.0000,  1.0000,  0.0000,  1.0000,  0.0000,  0.0000,  1.0000],\n",
       "        [24.0000,  2.0000,  0.0000,  4.3108,  0.0000,  1.0000,  0.0000,  0.0000,  1.0000,  0.0000,  0.0000,  1.0000],\n",
       "        [24.0000,  0.0000,  0.0000,  5.4316,  1.0000,  0.0000,  0.0000,  0.0000,  1.0000,  1.0000,  0.0000,  0.0000],\n",
       "        [32.0000,  0.0000,  0.0000,  4.3476,  1.0000,  0.0000,  0.0000,  1.0000,  0.0000,  1.0000,  0.0000,  0.0000],\n",
       "        [30.0000,  0.0000,  0.0000,  2.1102,  0.0000,  0.0000,  1.0000,  0.0000,  1.0000,  0.0000,  0.0000,  1.0000],\n",
       "        [18.0000,  0.0000,  2.0000,  2.6391,  0.0000,  1.0000,  0.0000,  1.0000,  0.0000,  0.0000,  0.0000,  1.0000],\n",
       "        [47.0000,  1.0000,  1.0000,  3.9807,  1.0000,  0.0000,  0.0000,  1.0000,  0.0000,  0.0000,  0.0000,  1.0000],\n",
       "        [34.0000,  0.0000,  0.0000,  2.4423,  0.0000,  1.0000,  0.0000,  1.0000,  0.0000,  0.0000,  0.0000,  1.0000],\n",
       "        [39.0000,  1.0000,  1.0000,  4.7175,  1.0000,  0.0000,  0.0000,  1.0000,  0.0000,  1.0000,  0.0000,  0.0000],\n",
       "        [50.0000,  0.0000,  1.0000,  5.5155,  1.0000,  0.0000,  0.0000,  1.0000,  0.0000,  1.0000,  0.0000,  0.0000],\n",
       "        ...,\n",
       "        [20.0000,  1.0000,  0.0000,  2.3819,  0.0000,  0.0000,  1.0000,  1.0000,  0.0000,  0.0000,  0.0000,  1.0000],\n",
       "        [31.0000,  0.0000,  0.0000,  2.1691,  0.0000,  0.0000,  1.0000,  0.0000,  1.0000,  0.0000,  1.0000,  0.0000],\n",
       "        [24.0000,  2.0000,  3.0000,  2.9832,  0.0000,  1.0000,  0.0000,  1.0000,  0.0000,  0.0000,  0.0000,  1.0000],\n",
       "        [21.0000,  0.0000,  0.0000,  2.1102,  0.0000,  0.0000,  1.0000,  0.0000,  1.0000,  0.0000,  0.0000,  1.0000],\n",
       "        [50.0000,  0.0000,  0.0000,  2.4423,  0.0000,  1.0000,  0.0000,  1.0000,  0.0000,  0.0000,  0.0000,  1.0000],\n",
       "        [22.0000,  0.0000,  0.0000,  2.1691,  0.0000,  0.0000,  1.0000,  1.0000,  0.0000,  0.0000,  0.0000,  1.0000],\n",
       "        [45.0000,  0.0000,  0.0000,  2.6741,  0.0000,  1.0000,  0.0000,  1.0000,  0.0000,  0.0000,  0.0000,  1.0000],\n",
       "        [33.0000,  1.0000,  1.0000,  3.0692,  0.0000,  0.0000,  1.0000,  0.0000,  1.0000,  0.0000,  0.0000,  1.0000],\n",
       "        [40.0000,  0.0000,  0.0000,  5.0400,  1.0000,  0.0000,  0.0000,  1.0000,  0.0000,  0.0000,  0.0000,  1.0000],\n",
       "        [24.0000,  0.0000,  0.0000,  2.1459,  0.0000,  0.0000,  1.0000,  0.0000,  1.0000,  0.0000,  0.0000,  1.0000]])"
      ]
     },
     "execution_count": 6,
     "metadata": {},
     "output_type": "execute_result"
    }
   ],
   "source": [
    "independent_cols = ['Age', 'SibSp', 'Parch', 'LogFare', 'Pclass_1', 'Pclass_2', 'Pclass_3', 'Sex_female', 'Sex_male',\n",
    "                    'Embarked_C', 'Embarked_Q', 'Embarked_S']\n",
    "\n",
    "independent_vars = tensor((train_dataset.to_pandas()*1)[independent_cols].values, dtype=torch.float)\n",
    "independent_vars"
   ]
  },
  {
   "cell_type": "code",
   "execution_count": 7,
   "id": "56b4dfcd-b5b4-4ea6-8a80-d581396f41b1",
   "metadata": {},
   "outputs": [
    {
     "data": {
      "text/plain": [
       "torch.Size([712, 12])"
      ]
     },
     "execution_count": 7,
     "metadata": {},
     "output_type": "execute_result"
    }
   ],
   "source": [
    "independent_vars.shape"
   ]
  },
  {
   "cell_type": "markdown",
   "id": "5c3fcf76-c29a-4cd5-8d01-84c4e5196247",
   "metadata": {},
   "source": [
    "### Normalise Training Dataset"
   ]
  },
  {
   "cell_type": "code",
   "execution_count": 8,
   "id": "ba95ae83-5b4a-4198-a8f6-d527714d8c13",
   "metadata": {},
   "outputs": [
    {
     "data": {
      "text/plain": [
       "tensor([[0.2973, 0.0000, 0.0000, 0.3357, 0.0000, 0.0000, 1.0000, 0.0000, 1.0000, 0.0000, 0.0000, 1.0000],\n",
       "        [0.3243, 0.2500, 0.0000, 0.6907, 0.0000, 1.0000, 0.0000, 0.0000, 1.0000, 0.0000, 0.0000, 1.0000],\n",
       "        [0.3243, 0.0000, 0.0000, 0.8703, 1.0000, 0.0000, 0.0000, 0.0000, 1.0000, 1.0000, 0.0000, 0.0000],\n",
       "        [0.4324, 0.0000, 0.0000, 0.6966, 1.0000, 0.0000, 0.0000, 1.0000, 0.0000, 1.0000, 0.0000, 0.0000],\n",
       "        [0.4054, 0.0000, 0.0000, 0.3381, 0.0000, 0.0000, 1.0000, 0.0000, 1.0000, 0.0000, 0.0000, 1.0000],\n",
       "        [0.2432, 0.0000, 0.3333, 0.4229, 0.0000, 1.0000, 0.0000, 1.0000, 0.0000, 0.0000, 0.0000, 1.0000],\n",
       "        [0.6351, 0.1250, 0.1667, 0.6378, 1.0000, 0.0000, 0.0000, 1.0000, 0.0000, 0.0000, 0.0000, 1.0000],\n",
       "        [0.4595, 0.0000, 0.0000, 0.3913, 0.0000, 1.0000, 0.0000, 1.0000, 0.0000, 0.0000, 0.0000, 1.0000],\n",
       "        [0.5270, 0.1250, 0.1667, 0.7559, 1.0000, 0.0000, 0.0000, 1.0000, 0.0000, 1.0000, 0.0000, 0.0000],\n",
       "        [0.6757, 0.0000, 0.1667, 0.8838, 1.0000, 0.0000, 0.0000, 1.0000, 0.0000, 1.0000, 0.0000, 0.0000],\n",
       "        ...,\n",
       "        [0.2703, 0.1250, 0.0000, 0.3817, 0.0000, 0.0000, 1.0000, 1.0000, 0.0000, 0.0000, 0.0000, 1.0000],\n",
       "        [0.4189, 0.0000, 0.0000, 0.3476, 0.0000, 0.0000, 1.0000, 0.0000, 1.0000, 0.0000, 1.0000, 0.0000],\n",
       "        [0.3243, 0.2500, 0.5000, 0.4780, 0.0000, 1.0000, 0.0000, 1.0000, 0.0000, 0.0000, 0.0000, 1.0000],\n",
       "        [0.2838, 0.0000, 0.0000, 0.3381, 0.0000, 0.0000, 1.0000, 0.0000, 1.0000, 0.0000, 0.0000, 1.0000],\n",
       "        [0.6757, 0.0000, 0.0000, 0.3913, 0.0000, 1.0000, 0.0000, 1.0000, 0.0000, 0.0000, 0.0000, 1.0000],\n",
       "        [0.2973, 0.0000, 0.0000, 0.3476, 0.0000, 0.0000, 1.0000, 1.0000, 0.0000, 0.0000, 0.0000, 1.0000],\n",
       "        [0.6081, 0.0000, 0.0000, 0.4285, 0.0000, 1.0000, 0.0000, 1.0000, 0.0000, 0.0000, 0.0000, 1.0000],\n",
       "        [0.4459, 0.1250, 0.1667, 0.4918, 0.0000, 0.0000, 1.0000, 0.0000, 1.0000, 0.0000, 0.0000, 1.0000],\n",
       "        [0.5405, 0.0000, 0.0000, 0.8076, 1.0000, 0.0000, 0.0000, 1.0000, 0.0000, 0.0000, 0.0000, 1.0000],\n",
       "        [0.3243, 0.0000, 0.0000, 0.3438, 0.0000, 0.0000, 1.0000, 0.0000, 1.0000, 0.0000, 0.0000, 1.0000]])"
      ]
     },
     "execution_count": 8,
     "metadata": {},
     "output_type": "execute_result"
    }
   ],
   "source": [
    "max_vals,indices = independent_vars.max(dim=0)\n",
    "independent_vars /= max_vals\n",
    "independent_vars"
   ]
  },
  {
   "cell_type": "markdown",
   "id": "0c19fa10-2f6d-43e8-8100-def837cde605",
   "metadata": {},
   "source": [
    "## Train Model"
   ]
  },
  {
   "cell_type": "markdown",
   "id": "82078812-7143-40fe-9e74-f32670dac63f",
   "metadata": {},
   "source": [
    "### Set Up Coefficients"
   ]
  },
  {
   "cell_type": "markdown",
   "id": "5859de46-3042-4423-b4ca-56a194c867d9",
   "metadata": {},
   "source": [
    "Initialise random coefficients as a column vector."
   ]
  },
  {
   "cell_type": "code",
   "execution_count": 9,
   "id": "1927f9ef-0db6-4418-b3cb-28c7129fe2c4",
   "metadata": {},
   "outputs": [
    {
     "data": {
      "text/plain": [
       "tensor([[ 0.3823],\n",
       "        [ 0.4150],\n",
       "        [-0.1171],\n",
       "        [ 0.4593],\n",
       "        [-0.1096],\n",
       "        [ 0.1009],\n",
       "        [-0.2434],\n",
       "        [ 0.2936],\n",
       "        [ 0.4408],\n",
       "        [-0.3668],\n",
       "        [ 0.4346],\n",
       "        [ 0.0936]])"
      ]
     },
     "execution_count": 9,
     "metadata": {},
     "output_type": "execute_result"
    }
   ],
   "source": [
    "num_coeffs = independent_vars.shape[1]\n",
    "torch.manual_seed(42)\n",
    "coeffs = torch.rand(num_coeffs, 1) - 0.5\n",
    "coeffs"
   ]
  },
  {
   "cell_type": "markdown",
   "id": "ccf1bc4a-2080-47f0-ab32-c49f1851efd4",
   "metadata": {},
   "source": [
    "Transpose the dependent variable into a column vector."
   ]
  },
  {
   "cell_type": "code",
   "execution_count": 10,
   "id": "5d17e977-f786-411d-b69a-1ff419cb05e0",
   "metadata": {},
   "outputs": [
    {
     "data": {
      "text/plain": [
       "tensor([[0.],\n",
       "        [0.],\n",
       "        [0.],\n",
       "        [1.],\n",
       "        [0.],\n",
       "        [1.],\n",
       "        [1.],\n",
       "        [1.],\n",
       "        [1.],\n",
       "        [1.]])"
      ]
     },
     "execution_count": 10,
     "metadata": {},
     "output_type": "execute_result"
    }
   ],
   "source": [
    "dependent_var = dependent_var[:,None]\n",
    "dependent_var[:10]"
   ]
  },
  {
   "cell_type": "code",
   "execution_count": 11,
   "id": "9b588ef8-8ac8-496a-89a3-29fb778016db",
   "metadata": {},
   "outputs": [
    {
     "data": {
      "text/plain": [
       "tensor([[0.5588],\n",
       "        [1.1802],\n",
       "        [0.4881],\n",
       "        [0.3025],\n",
       "        [0.6012],\n",
       "        [0.7363],\n",
       "        [0.8458],\n",
       "        [0.8435],\n",
       "        [0.3983],\n",
       "        [0.4620]])"
      ]
     },
     "execution_count": 11,
     "metadata": {},
     "output_type": "execute_result"
    }
   ],
   "source": [
    "predictions = independent_vars@coeffs\n",
    "predictions[:10]"
   ]
  },
  {
   "cell_type": "code",
   "execution_count": 12,
   "id": "9b044342-370b-4fd2-a0e0-c6e6a6c76c1f",
   "metadata": {},
   "outputs": [
    {
     "data": {
      "text/plain": [
       "tensor(0.5760)"
      ]
     },
     "execution_count": 12,
     "metadata": {},
     "output_type": "execute_result"
    }
   ],
   "source": [
    "loss = torch.abs(predictions - dependent_var).mean()\n",
    "loss"
   ]
  },
  {
   "cell_type": "code",
   "execution_count": 13,
   "id": "d17c8a05-65df-476a-a3e6-639094683c82",
   "metadata": {},
   "outputs": [],
   "source": [
    "def calc_predictions(coeffs, independent_vars):\n",
    "    return independent_vars@coeffs\n",
    "\n",
    "def calc_loss(coeffs, independent_vars, dependent_var):\n",
    "    return torch.abs(calc_predictions(coeffs, independent_vars) - dependent_var).mean()\n",
    "    "
   ]
  },
  {
   "cell_type": "markdown",
   "id": "b2a6fd49-6af5-4d39-82d1-edf765b6434c",
   "metadata": {},
   "source": [
    "### Set Up Gradient Descent Step"
   ]
  },
  {
   "cell_type": "code",
   "execution_count": 14,
   "id": "ae0997df-6ae7-4081-a255-3bb99e360ddb",
   "metadata": {},
   "outputs": [
    {
     "data": {
      "text/plain": [
       "tensor([[ 0.3823],\n",
       "        [ 0.4150],\n",
       "        [-0.1171],\n",
       "        [ 0.4593],\n",
       "        [-0.1096],\n",
       "        [ 0.1009],\n",
       "        [-0.2434],\n",
       "        [ 0.2936],\n",
       "        [ 0.4408],\n",
       "        [-0.3668],\n",
       "        [ 0.4346],\n",
       "        [ 0.0936]], requires_grad=True)"
      ]
     },
     "execution_count": 14,
     "metadata": {},
     "output_type": "execute_result"
    }
   ],
   "source": [
    "coeffs.requires_grad_()"
   ]
  },
  {
   "cell_type": "code",
   "execution_count": 15,
   "id": "8f0a6a13-e5dd-4ecd-9da0-114a57149df9",
   "metadata": {},
   "outputs": [
    {
     "data": {
      "text/plain": [
       "tensor(0.5760, grad_fn=<MeanBackward0>)"
      ]
     },
     "execution_count": 15,
     "metadata": {},
     "output_type": "execute_result"
    }
   ],
   "source": [
    "loss = calc_loss(coeffs, independent_vars, dependent_var)\n",
    "loss"
   ]
  },
  {
   "cell_type": "code",
   "execution_count": 16,
   "id": "764db880-8b78-4e2b-bd5a-7feed49d3b3b",
   "metadata": {},
   "outputs": [
    {
     "data": {
      "text/plain": [
       "tensor([[ 0.1188],\n",
       "        [ 0.0230],\n",
       "        [ 0.0054],\n",
       "        [ 0.0838],\n",
       "        [-0.0407],\n",
       "        [ 0.0295],\n",
       "        [ 0.2865],\n",
       "        [-0.1587],\n",
       "        [ 0.4340],\n",
       "        [-0.0351],\n",
       "        [ 0.0393],\n",
       "        [ 0.2711]])"
      ]
     },
     "execution_count": 16,
     "metadata": {},
     "output_type": "execute_result"
    }
   ],
   "source": [
    "loss.backward()\n",
    "coeffs.grad"
   ]
  },
  {
   "cell_type": "code",
   "execution_count": 17,
   "id": "b8d334b3-d06e-41e0-b642-416916b0d158",
   "metadata": {},
   "outputs": [
    {
     "name": "stdout",
     "output_type": "stream",
     "text": [
      "tensor(0.4996)\n"
     ]
    }
   ],
   "source": [
    "loss = calc_loss(coeffs, independent_vars, dependent_var)\n",
    "loss.backward()\n",
    "with torch.no_grad():\n",
    "    coeffs.sub_(coeffs.grad * 0.1)\n",
    "    coeffs.grad.zero_()\n",
    "    print(calc_loss(coeffs, independent_vars, dependent_var))"
   ]
  },
  {
   "cell_type": "markdown",
   "id": "f6ceee0f-04ab-4e66-be71-0d8d7f5aea3f",
   "metadata": {},
   "source": [
    "### Run Training Loop"
   ]
  },
  {
   "cell_type": "code",
   "execution_count": 18,
   "id": "0fe3a0b4-da48-46b4-9034-3966e4dbeff0",
   "metadata": {},
   "outputs": [],
   "source": [
    "def update_coeffs(coeffs, learning_rate):\n",
    "    coeffs.sub_(coeffs.grad * learning_rate)\n",
    "    coeffs.grad.zero_()"
   ]
  },
  {
   "cell_type": "code",
   "execution_count": 19,
   "id": "c6684e67-08d9-42cb-9a60-4d79ba748aa9",
   "metadata": {},
   "outputs": [],
   "source": [
    "def one_epoch(coeffs, learning_rate):\n",
    "    loss = calc_loss(coeffs, independent_vars, dependent_var)\n",
    "    loss.backward()\n",
    "    with torch.no_grad(): update_coeffs(coeffs, learning_rate)\n",
    "    print(f'{loss:.3f}', end='; ')"
   ]
  },
  {
   "cell_type": "code",
   "execution_count": 20,
   "id": "2d58c531-4b82-4936-b2f1-1eb11554f5a2",
   "metadata": {},
   "outputs": [],
   "source": [
    "def init_coeffs():\n",
    "    return (torch.rand(num_coeffs, 1) - 0.5).requires_grad_()"
   ]
  },
  {
   "cell_type": "code",
   "execution_count": 21,
   "id": "9af7154d-6074-45ba-9100-d9a1babccec7",
   "metadata": {},
   "outputs": [],
   "source": [
    "def train_model(epochs=30, learning_rate=0.01):\n",
    "    torch.manual_seed(442)\n",
    "    coeffs = init_coeffs()\n",
    "    for i in range (epochs):\n",
    "        one_epoch(coeffs, learning_rate)\n",
    "        \n",
    "    return coeffs"
   ]
  },
  {
   "cell_type": "code",
   "execution_count": 22,
   "id": "7c80e4c8-0369-47b5-b58e-0f00c46aaeda",
   "metadata": {},
   "outputs": [
    {
     "name": "stdout",
     "output_type": "stream",
     "text": [
      "0.708; 0.660; 0.621; 0.584; 0.548; 0.513; 0.477; 0.442; 0.407; 0.374; 0.342; 0.315; 0.293; 0.277; 0.266; 0.260; 0.270; 0.292; 0.273; 0.295; "
     ]
    }
   ],
   "source": [
    "coeffs = train_model(epochs=20, learning_rate=0.2)"
   ]
  },
  {
   "cell_type": "code",
   "execution_count": 23,
   "id": "7706e362-bbad-4a8f-8264-6be55227156b",
   "metadata": {},
   "outputs": [
    {
     "data": {
      "text/plain": [
       "{'Age': tensor([-0.2781]),\n",
       " 'SibSp': tensor([0.0818]),\n",
       " 'Parch': tensor([0.2151]),\n",
       " 'LogFare': tensor([7.2036e-05]),\n",
       " 'Pclass_1': tensor([0.1255]),\n",
       " 'Pclass_2': tensor([0.0336]),\n",
       " 'Pclass_3': tensor([-0.0669]),\n",
       " 'Sex_female': tensor([0.8136]),\n",
       " 'Sex_male': tensor([-0.0375]),\n",
       " 'Embarked_C': tensor([0.0867]),\n",
       " 'Embarked_Q': tensor([0.1575]),\n",
       " 'Embarked_S': tensor([0.0721])}"
      ]
     },
     "execution_count": 23,
     "metadata": {},
     "output_type": "execute_result"
    }
   ],
   "source": [
    "def show_coeffs():\n",
    "    return dict(zip(independent_cols, coeffs.requires_grad_(False)))\n",
    "\n",
    "show_coeffs()"
   ]
  }
 ],
 "metadata": {
  "kernelspec": {
   "display_name": "Python 3 (ipykernel)",
   "language": "python",
   "name": "python3"
  },
  "language_info": {
   "codemirror_mode": {
    "name": "ipython",
    "version": 3
   },
   "file_extension": ".py",
   "mimetype": "text/x-python",
   "name": "python",
   "nbconvert_exporter": "python",
   "pygments_lexer": "ipython3",
   "version": "3.10.12"
  }
 },
 "nbformat": 4,
 "nbformat_minor": 5
}
